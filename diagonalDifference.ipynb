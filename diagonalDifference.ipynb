{
  "nbformat": 4,
  "nbformat_minor": 0,
  "metadata": {
    "colab": {
      "name": "diagonalDifference.ipynb",
      "version": "0.3.2",
      "provenance": [],
      "include_colab_link": true
    },
    "kernelspec": {
      "name": "python3",
      "display_name": "Python 3"
    }
  },
  "cells": [
    {
      "cell_type": "markdown",
      "metadata": {
        "id": "view-in-github",
        "colab_type": "text"
      },
      "source": [
        "[View in Colaboratory](https://colab.research.google.com/github/cyborg001/HackerRank/blob/master/diagonalDifference.ipynb)"
      ]
    },
    {
      "metadata": {
        "id": "f0teBLeABjdh",
        "colab_type": "code",
        "colab": {}
      },
      "cell_type": "code",
      "source": [
        "def diagonalDifference(arr):\n",
        "    suml=0\n",
        "    sumr=0\n",
        "    for i in range(0,len(arr)):\n",
        "        for j in range(0,len(arr)):\n",
        "            if i==j:\n",
        "                suml+=arr[i][j]\n",
        "            if j==len(arr)-1-i:\n",
        "                print(i,j)\n",
        "                sumr+=arr[i][j]\n",
        "    return abs(suml-sumr)\n",
        "\n",
        "d = [[11, 2, 4],\n",
        "  [4, 5, 6],\n",
        "[10, 8, -12]]\n",
        "print(diagonalDifference(d))"
      ],
      "execution_count": 0,
      "outputs": []
    },
    {
      "metadata": {
        "id": "onWDsSS7-xSx",
        "colab_type": "code",
        "colab": {}
      },
      "cell_type": "code",
      "source": [
        ""
      ],
      "execution_count": 0,
      "outputs": []
    }
  ]
}